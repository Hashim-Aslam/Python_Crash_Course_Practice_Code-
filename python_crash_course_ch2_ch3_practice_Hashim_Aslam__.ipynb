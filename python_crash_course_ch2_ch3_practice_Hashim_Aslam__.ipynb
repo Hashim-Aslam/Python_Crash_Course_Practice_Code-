{
  "cells": [
    {
      "cell_type": "code",
      "execution_count": null,
      "metadata": {
        "colab": {
          "base_uri": "https://localhost:8080/"
        },
        "id": "sAeQsk9B1hLA",
        "outputId": "4aaae5c0-efab-4bbb-8255-4ccbf55a7813"
      },
      "outputs": [
        {
          "name": "stdout",
          "output_type": "stream",
          "text": [
            "Assalam o Alaikum\n"
          ]
        }
      ],
      "source": [
        "#1.Create a variable called greeting and store any message. Print it.\n",
        "greeting= \"Assalam o Alaikum\"\n",
        "print(greeting)"
      ]
    },
    {
      "cell_type": "code",
      "execution_count": 2,
      "metadata": {
        "colab": {
          "base_uri": "https://localhost:8080/"
        },
        "id": "27nK7hCR6gMw",
        "outputId": "593e52ee-cae7-4325-cfeb-c1652f04e492"
      },
      "outputs": [
        {
          "name": "stdout",
          "output_type": "stream",
          "text": [
            "Hashim Aslam\n"
          ]
        }
      ],
      "source": [
        "#3.Create two variables first_name and last_name. Combine them into a full name using an f-string.\n",
        "first_name = \"Hashim\"\n",
        "last_name = \" Aslam\"\n",
        "print(first_name + last_name)"
      ]
    },
    {
      "cell_type": "code",
      "execution_count": null,
      "metadata": {
        "colab": {
          "base_uri": "https://localhost:8080/"
        },
        "id": "3aGA9wa26iQ4",
        "outputId": "fc98d609-1150-4896-8972-cef088062243"
      },
      "outputs": [
        {
          "name": "stdout",
          "output_type": "stream",
          "text": [
            "My favourite quote: Time is a Sowrd if you don't cut it, it will cut you. -Imam Shaafi \n"
          ]
        }
      ],
      "source": [
        "#4.Print a quote along with the author's name using an f-string.\n",
        "author_name = \"Imam Shaafi\"\n",
        "quote = \"Time is a Sowrd if you don't cut it, it will cut you.\"\n",
        "print(f\"My favourite quote: {quote} -{author_name} \")"
      ]
    },
    {
      "cell_type": "code",
      "execution_count": null,
      "metadata": {
        "colab": {
          "base_uri": "https://localhost:8080/"
        },
        "id": "Fgq6N_3L6-Ld",
        "outputId": "d2628bef-7bc9-4ef3-ac37-1456a14e1135"
      },
      "outputs": [
        {
          "name": "stdout",
          "output_type": "stream",
          "text": [
            "Sultanm Tipu Shaheed\n"
          ]
        }
      ],
      "source": [
        "#5.Store a person's name with extra spaces. Strip the spaces before printing.\n",
        "name = \"     Sultanm Tipu Shaheed     \"\n",
        "print(name.strip())"
      ]
    },
    {
      "cell_type": "code",
      "execution_count": null,
      "metadata": {
        "colab": {
          "base_uri": "https://localhost:8080/"
        },
        "id": "eFevxtMn-nSA",
        "outputId": "fb9397f3-e66b-4a8a-d00d-9aed0203d0a1"
      },
      "outputs": [
        {
          "name": "stdout",
          "output_type": "stream",
          "text": [
            "Ans1= 12\n",
            "Ans2= 24\n",
            "Ans3= 21\n"
          ]
        }
      ],
      "source": [
        "#6.Take a number, add 5, multiply by 2, subtract 3, and print the final result.\n",
        "a = 7\n",
        "b = 5\n",
        "c = 2\n",
        "d = 3\n",
        "result1 = a + b\n",
        "print(\"Ans1=\",result1)\n",
        "result2 = result1 * c\n",
        "print(\"Ans2=\",result2)\n",
        "result3 = result2 - d\n",
        "print(\"Ans3=\",result3)"
      ]
    },
    {
      "cell_type": "code",
      "execution_count": null,
      "metadata": {
        "colab": {
          "base_uri": "https://localhost:8080/"
        },
        "id": "XBCPgF55L3TS",
        "outputId": "bc5ce8cb-7bba-4001-c02a-2a456e1aa199"
      },
      "outputs": [
        {
          "name": "stdout",
          "output_type": "stream",
          "text": [
            "Ans_sum= 20\n",
            "Ans_diff= 12\n",
            "Ans_pro= 64\n",
            "Ans_quo= 4.0\n"
          ]
        }
      ],
      "source": [
        "#7.Create two numbers a and b and print their sum, difference, product, and quotient.\n",
        "num1 = 16\n",
        "num2 = 4\n",
        "result_sum = num1 + num2\n",
        "print(\"Ans_sum=\",result_num)\n",
        "result_diff = num1 - num2\n",
        "print(\"Ans_diff=\",result_diff)\n",
        "result_pro = num1 * num2\n",
        "print(\"Ans_pro=\",result_pro)\n",
        "result_quo = num1 / num2\n",
        "print(\"Ans_quo=\",result_quo)"
      ]
    },
    {
      "cell_type": "code",
      "execution_count": null,
      "metadata": {
        "colab": {
          "base_uri": "https://localhost:8080/"
        },
        "id": "oC8nI6E2OCP6",
        "outputId": "47827953-72ad-4173-fbcf-337f88324058"
      },
      "outputs": [
        {
          "name": "stdout",
          "output_type": "stream",
          "text": [
            "16\n",
            "64\n"
          ]
        }
      ],
      "source": [
        "#8.Find the square and cube of a number using the ** operator.\n",
        "number = 4\n",
        "print(number ** 2)\n",
        "print(number ** 3)"
      ]
    },
    {
      "cell_type": "code",
      "execution_count": null,
      "metadata": {
        "colab": {
          "base_uri": "https://localhost:8080/"
        },
        "id": "4rvKZm22OdeL",
        "outputId": "779b0093-1e50-4a26-b0c7-35ca18c40070"
      },
      "outputs": [
        {
          "name": "stdout",
          "output_type": "stream",
          "text": [
            "9.5\n"
          ]
        }
      ],
      "source": [
        "#9.Print the sum of three floating-point numbers.\n",
        "num_f1 = 1.5\n",
        "num_f2 = 3.5\n",
        "num_f3 = 4.5\n",
        "result_float = num_f1 + num_f2 + num_f3\n",
        "print(result_float)"
      ]
    },
    {
      "cell_type": "code",
      "execution_count": null,
      "metadata": {
        "colab": {
          "base_uri": "https://localhost:8080/"
        },
        "id": "ChUPtSD-PhDe",
        "outputId": "dc127bfd-3f18-4258-c73c-b96f29bc00ab"
      },
      "outputs": [
        {
          "name": "stdout",
          "output_type": "stream",
          "text": [
            "12 47 28\n"
          ]
        }
      ],
      "source": [
        "#10.Assign three variables x, y, z in a single line and print them.\n",
        "x,y,z = 12, 28 ,47\n",
        "print(x,z,y)"
      ]
    },
    {
      "cell_type": "code",
      "execution_count": 5,
      "metadata": {
        "colab": {
          "base_uri": "https://localhost:8080/"
        },
        "id": "nMQi6X0CL7uZ",
        "outputId": "2bf58dda-6400-474f-c0e3-733e377868a0"
      },
      "outputs": [
        {
          "name": "stdout",
          "output_type": "stream",
          "text": [
            "['Apple', 'Banana', 'Orannge', 'Pineapple', 'Apricot']\n",
            "Apple\n",
            "Banana\n",
            "Orannge\n",
            "Pineapple\n",
            "Apricot\n"
          ]
        }
      ],
      "source": [
        "#11.Create a list of 5 favorite fruits and print each fruit separately.\n",
        "fruits = [\"Apple\",\"Banana\",\"Orannge\",\"Pineapple\",\"Apricot\"]\n",
        "print(fruits)\n",
        "print(fruits[0])\n",
        "print(fruits[1])\n",
        "print(fruits[2])\n",
        "print(fruits[3])\n",
        "print(fruits[4])"
      ]
    },
    {
      "cell_type": "code",
      "execution_count": 6,
      "metadata": {
        "colab": {
          "base_uri": "https://localhost:8080/"
        },
        "id": "nSb2jkmUOFTx",
        "outputId": "a9bc5428-0333-4e09-a185-4e8a7b437bb2"
      },
      "outputs": [
        {
          "name": "stdout",
          "output_type": "stream",
          "text": [
            "['Apple', 'Banana', 'Orannge', 'Pineapple', 'Apricot']\n",
            "['Apple', 'Mango', 'Orannge', 'Pineapple', 'Apricot']\n"
          ]
        }
      ],
      "source": [
        "#12.Modify the second item in the list and print the updated list.\n",
        "fruits = [\"Apple\",\"Banana\",\"Orannge\",\"Pineapple\",\"Apricot\"]\n",
        "print(fruits)\n",
        "fruits[1] = 'Mango'\n",
        "print(fruits)"
      ]
    },
    {
      "cell_type": "code",
      "execution_count": 8,
      "metadata": {
        "colab": {
          "base_uri": "https://localhost:8080/"
        },
        "id": "QQ0cHkjXP6Ni",
        "outputId": "00c91faf-7100-4a48-a90e-617e4c9cffc9"
      },
      "outputs": [
        {
          "name": "stdout",
          "output_type": "stream",
          "text": [
            "['Watermelon', 'Apple', 'Banana', 'Orannge', 'Pineapple', 'Apricot', 'Grapes']\n"
          ]
        }
      ],
      "source": [
        "#13.Append a new fruit and insert another at the beginning of the list.\n",
        "fruits = [\"Apple\",\"Banana\",\"Orannge\",\"Pineapple\",\"Apricot\"]\n",
        "fruits.append(\"Grapes\")\n",
        "fruits.insert(0,\"Watermelon\")\n",
        "print(fruits)"
      ]
    },
    {
      "cell_type": "code",
      "execution_count": 38,
      "metadata": {
        "colab": {
          "base_uri": "https://localhost:8080/"
        },
        "id": "KLBmlnj9P7aX",
        "outputId": "f18ff153-cd1e-43d8-ca21-3a2dbc35be43"
      },
      "outputs": [
        {
          "name": "stdout",
          "output_type": "stream",
          "text": [
            "After deleting ['Watermelon', 'Banana', 'Orannge', 'Pineapple', 'Apricot', 'Grapes']\n",
            "After Popping ['Watermelon', 'Banana', 'Orannge', 'Apricot', 'Grapes']\n",
            "Fopped Fruit : Pineapple\n",
            "After removing ['Watermelon', 'Banana', 'Orannge', 'Grapes']\n"
          ]
        }
      ],
      "source": [
        "#14.Demonstrate deleting an item using del, pop(), and remove().\n",
        "fruits = ['Watermelon', 'Apple', 'Banana', 'Orannge', 'Pineapple', 'Apricot', 'Grapes']\n",
        "#delete\n",
        "del fruits [1]\n",
        "print('After deleting',fruits)\n",
        "#pop\n",
        "popped_fruits = fruits.pop(3)\n",
        "print('After Popping',fruits)\n",
        "print(\"Fopped Fruit :\",popped_fruits)\n",
        "# remove\n",
        "fruits.remove('Apricot')\n",
        "print('After removing',fruits)\n",
        "\n"
      ]
    },
    {
      "cell_type": "code",
      "execution_count": 66,
      "metadata": {
        "colab": {
          "base_uri": "https://localhost:8080/"
        },
        "id": "QV3amCRxSwB7",
        "outputId": "ef5ed381-7e78-495d-fcf5-aa660dae74b4"
      },
      "outputs": [
        {
          "name": "stdout",
          "output_type": "stream",
          "text": [
            "original list ['Watermelon', 'Apple', 'Banana', 'Orannge', 'Pineapple', 'Grapes']\n",
            "temporary sorting ['Apple', 'Banana', 'Grapes', 'Orannge', 'Pineapple', 'Watermelon']\n",
            "original list ['Watermelon', 'Apple', 'Banana', 'Orannge', 'Pineapple', 'Grapes']\n",
            "After permanatly sorting ['Apple', 'Banana', 'Grapes', 'Orannge', 'Pineapple', 'Watermelon']\n",
            "original list ['Apple', 'Banana', 'Grapes', 'Orannge', 'Pineapple', 'Watermelon']\n"
          ]
        }
      ],
      "source": [
        "#15.Sort the list permanently with sort() and temporarily with sorted(). Print before and after each.\n",
        "fruit_list = ['Watermelon', 'Apple', 'Banana', 'Orannge', 'Pineapple','Grapes']\n",
        "print('original list',fruit_list)\n",
        "new = sorted(fruit_list)\n",
        "print('temporary sorting',new)\n",
        "print('original list',fruit_list)\n",
        "fruit_list.sort()\n",
        "print('After permanatly sorting',fruit_list)\n",
        "print('original list',fruit_list)"
      ]
    },
    {
      "cell_type": "code",
      "execution_count": 81,
      "metadata": {
        "colab": {
          "base_uri": "https://localhost:8080/"
        },
        "id": "zZ37TtQ9gYfc",
        "outputId": "468d8c54-2934-4e09-e524-0a0fbe7645f1"
      },
      "outputs": [
        {
          "name": "stdout",
          "output_type": "stream",
          "text": [
            "['Makkah', 'Madina', 'Bait-ul-Maqadas', 'Turkiye', 'Spain', 'Egypt']\n",
            "['Bait-ul-Maqadas', 'Egypt', 'Madina', 'Makkah', 'Spain', 'Turkiye']\n",
            "['Turkiye', 'Spain', 'Makkah', 'Madina', 'Egypt', 'Bait-ul-Maqadas']\n",
            "Total Travel Destinations: {6}\n"
          ]
        }
      ],
      "source": [
        "#16.Create a list of dream travel destinations:\n",
        "#1.Sort alphabetically\n",
        "#2.Reverse the order\n",
        "#3.Find the total number of destinations\n",
        "travel_list = ['Makkah','Madina','Bait-ul-Maqadas','Turkiye','Spain','Egypt']\n",
        "print(travel_list)\n",
        "travel_list.sort()\n",
        "print(travel_list)\n",
        "travel_list.reverse()\n",
        "print(travel_list)\n",
        "print(\"Total Travel Destinations:\",{len(travel_list)})"
      ]
    },
    {
      "cell_type": "code",
      "execution_count": 105,
      "metadata": {
        "colab": {
          "base_uri": "https://localhost:8080/"
        },
        "id": "iPjMNvupj7ux",
        "outputId": "456c310e-be25-402e-8fd6-f39484b83f83"
      },
      "outputs": [
        {
          "name": "stdout",
          "output_type": "stream",
          "text": [
            "[]\n",
            "['Haseeb', 'Abdullah', 'Umar']\n",
            "['Ali', 'Haseeb', 'Abdullah', 'Umar']\n",
            "Popped Guest: Abdullah\n",
            "Final invitation list: ['Ali', 'Haseeb', 'Umar']\n"
          ]
        }
      ],
      "source": [
        "#17.Start with an empty guest list:\n",
        "#Append three guests\n",
        "#Insert a guest at the beginning\n",
        "#Remove one guest with pop()\n",
        "#Print the final invitation list.\n",
        "guests = []\n",
        "print(guests)\n",
        "guests.append(\"Haseeb\")\n",
        "guests.append(\"Abdullah\")\n",
        "guests.append(\"Umar\")\n",
        "print(guests)\n",
        "guests.insert(0,\"Ali\")\n",
        "print(guests)\n",
        "popped_guest = guests.pop(2)\n",
        "print(\"Popped Guest:\",popped_guest)\n",
        "print('Final invitation list:',guests)\n"
      ]
    },
    {
      "cell_type": "code",
      "execution_count": 109,
      "metadata": {
        "colab": {
          "base_uri": "https://localhost:8080/"
        },
        "id": "PLNXSrROnbRl",
        "outputId": "f1b13143-e32c-4148-d512-b9351b549963"
      },
      "outputs": [
        {
          "name": "stdout",
          "output_type": "stream",
          "text": [
            "['Apple', 'Apricot', 'Banana', 'Grapes', 'Orannge', 'Pineapple', 'Watermelon', 'Cherries']\n",
            "Total Fruits: {8}\n",
            "['Pineapple', 'Watermelon', 'Cherries']\n"
          ]
        }
      ],
      "source": [
        "#18.Access the last three elements of a list without using negative indices.\n",
        "favourite_fruit_list = ['Apple','Apricot', 'Banana', 'Grapes', 'Orannge', 'Pineapple', 'Watermelon','Cherries']\n",
        "print(favourite_fruit_list)\n",
        "print(\"Total Fruits:\",{len(favourite_fruit_list)})\n",
        "print(favourite_fruit_list[5:8])"
      ]
    },
    {
      "cell_type": "code",
      "execution_count": 7,
      "metadata": {
        "colab": {
          "base_uri": "https://localhost:8080/"
        },
        "id": "56EKymI7N2hB",
        "outputId": "31514899-3a36-432a-8e74-17cf6c696d8f"
      },
      "outputs": [
        {
          "name": "stdout",
          "output_type": "stream",
          "text": [
            "2\n",
            "4\n",
            "6\n",
            "8\n",
            "10\n"
          ]
        }
      ],
      "source": [
        "#19.Print only the even numbers from a list.\n",
        "numbers = [1,2,3,4,5,6,7,8,9,10]\n",
        "for even in numbers:\n",
        "    if even % 2 == 0:\n",
        "        print(even)\n",
        "numbers = [1, 2, 3, 4, 5, 6, 7, 8, 9, 10]\n",
        "\n",
        "\n"
      ]
    },
    {
      "cell_type": "code",
      "execution_count": 20,
      "metadata": {
        "colab": {
          "base_uri": "https://localhost:8080/"
        },
        "id": "2fmNuVMlwkwc",
        "outputId": "dcdbe7c9-384d-4d3c-f1db-4d7cba9418a3"
      },
      "outputs": [
        {
          "name": "stdout",
          "output_type": "stream",
          "text": [
            "1\n",
            "4\n",
            "9\n",
            "16\n",
            "25\n",
            "36\n",
            "49\n",
            "64\n",
            "81\n",
            "100\n"
          ]
        }
      ],
      "source": [
        "#20.Print the squares of the first 10 natural numbers using a list.\n",
        "real_number = range(1,11)\n",
        "for square in real_number:\n",
        "   print(square**2)"
      ]
    },
    {
      "cell_type": "markdown",
      "metadata": {
        "id": "X4UJe6c538HO"
      },
      "source": [
        "Bonus Challange\n"
      ]
    },
    {
      "cell_type": "code",
      "execution_count": 43,
      "metadata": {
        "colab": {
          "base_uri": "https://localhost:8080/"
        },
        "id": "E6uLgT3IypI2",
        "outputId": "9a76075d-c052-489f-c5fb-fe3fb3cb1ef0"
      },
      "outputs": [
        {
          "name": "stdout",
          "output_type": "stream",
          "text": [
            "Enter your fvourite movies :Osman Ertugrul Salahudin FatehSultani\n",
            "['Ertugrul', 'FatehSultani', 'Osman', 'Salahudin']\n"
          ]
        }
      ],
      "source": [
        "#Combine variables and lists:\n",
        "#Ask the user for five favorite movies.\n",
        "#Store them in a list.\n",
        "#Print the sorted list alphabetically.\n",
        "movie =  input(\"Enter your fvourite movies :\")\n",
        "movie_list = [movie]\n",
        "movie_list = movie.split()\n",
        "movie_list.sort()\n",
        "print(movie_list)"
      ]
    }
  ],
  "metadata": {
    "colab": {
      "provenance": []
    },
    "kernelspec": {
      "display_name": ".venv",
      "language": "python",
      "name": "python3"
    },
    "language_info": {
      "codemirror_mode": {
        "name": "ipython",
        "version": 3
      },
      "file_extension": ".py",
      "mimetype": "text/x-python",
      "name": "python",
      "nbconvert_exporter": "python",
      "pygments_lexer": "ipython3",
      "version": "3.13.3"
    }
  },
  "nbformat": 4,
  "nbformat_minor": 0
}
