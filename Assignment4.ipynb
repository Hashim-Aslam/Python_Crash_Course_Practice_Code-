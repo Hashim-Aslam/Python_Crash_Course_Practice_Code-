{
 "cells": [
  {
   "cell_type": "code",
   "execution_count": 21,
   "id": "3030e89e",
   "metadata": {},
   "outputs": [
    {
     "name": "stdout",
     "output_type": "stream",
     "text": [
      "Hashim's favourite movie is Ertugrul Gazi.\n"
     ]
    }
   ],
   "source": [
    "# Q1. Favorite Movie Intro\n",
    "#Ask the user for:\n",
    "#Their name,Their favorite movie,Print a sentence\n",
    "info = input(\"Enter your name and favourite movie :\")\n",
    "name,movie1,movie =info.split()\n",
    "print(f\"{name}'s favourite movie is {movie1} {movie}.\")"
   ]
  },
  {
   "cell_type": "code",
   "execution_count": null,
   "id": "ed0e046e",
   "metadata": {},
   "outputs": [
    {
     "name": "stdout",
     "output_type": "stream",
     "text": [
      "Taqwa\n",
      "TAQWA\n",
      "taqwa\n"
     ]
    }
   ],
   "source": [
    "#Q2.Ask the user to enter a word.\n",
    "#Print:\n",
    "#The word in uppercase\n",
    "#The word in lowercase\n",
    "#The word in title case\n",
    "word = input(\"Enter a word:\")\n",
    "print(word.title())\n",
    "print(word.upper())\n",
    "print(word.lower())"
   ]
  },
  {
   "cell_type": "code",
   "execution_count": null,
   "id": "8336d6aa",
   "metadata": {},
   "outputs": [
    {
     "name": "stdout",
     "output_type": "stream",
     "text": [
      "Sum = 7\n",
      "Difference = 3\n",
      "Product = 10\n",
      "Quotient = 2\n"
     ]
    }
   ],
   "source": [
    "# Q3. Simple Math with Input\n",
    "#Ask the user to input two numbers using input()\n",
    "#Convert them to int or float\n",
    "#Print:\n",
    "#Sum\n",
    "#Difference\n",
    "#Product\n",
    "#Quotient\n",
    "num = input(\"Enter two numbers:\")\n",
    "num1,num2 = num.split()\n",
    "print(f\"Sum = {int(num1) + int(num2)}\")\n",
    "print(f\"Difference = {int(num1) - int(num2)}\")\n",
    "print(f\"Product = {int(num1) * int(num2)}\")\n",
    "print(f\"Quotient = {int(num1) // int(num2)}\")\n",
    "# giving input 5 and 2 will give output as:"
   ]
  },
  {
   "cell_type": "code",
   "execution_count": 34,
   "id": "4dd197fe",
   "metadata": {},
   "outputs": [
    {
     "name": "stdout",
     "output_type": "stream",
     "text": [
      "Ali \n",
      "Ahmed \n",
      "Haseeb\n",
      "Umar\n"
     ]
    }
   ],
   "source": [
    "#Q4. My Friends List\n",
    "#Create a list of 4 friends’ names.\n",
    "#Print each name using a for loop.\n",
    "friends = [\"Ali \",\"Ahmed \",\"Haseeb\",\"Umar\"]\n",
    "for friend in friends:\n",
    "    print(friend)"
   ]
  },
  {
   "cell_type": "code",
   "execution_count": 41,
   "id": "f64b8406",
   "metadata": {},
   "outputs": [
    {
     "name": "stdout",
     "output_type": "stream",
     "text": [
      "['banana', 'apple', 'mango']\n",
      "['banana', 'apricot', 'mango']\n",
      "['banana', 'apricot', 'mango', 'pineapple']\n",
      "['watermelon', 'banana', 'apricot', 'mango', 'pineapple']\n"
     ]
    }
   ],
   "source": [
    "#5. Update Your List\n",
    "#Create a list of 3 favorite fruits.\n",
    "#Replace the second fruit with another.\n",
    "#Add one fruit to the end using .append().\n",
    "#Add one to the beginning using .insert(0, ...).\n",
    "#Print the list after each change.\n",
    "fruits = [\"banana\",\"apple\",\"mango\"]\n",
    "print(fruits)\n",
    "fruits[1] = \"apricot\"\n",
    "print(fruits)\n",
    "fruits.append(\"pineapple\")\n",
    "print(fruits)\n",
    "fruits.insert(0,\"watermelon\")\n",
    "print(fruits)"
   ]
  },
  {
   "cell_type": "code",
   "execution_count": 28,
   "id": "584068d1",
   "metadata": {},
   "outputs": [
    {
     "name": "stdout",
     "output_type": "stream",
     "text": [
      "['Shaheen', 'Lion', 'Wolf', 'Eagle', 'Horse']\n",
      "Total Animals : 5\n",
      "First animal : Shaheen\n",
      "Last animal : Horse\n"
     ]
    }
   ],
   "source": [
    "#Q6. List Length Reporter\n",
    "#Ask the user to enter 5 favorite animals (use input()).\n",
    "#Store each animal in a list.\n",
    "#After collecting:\n",
    "#Print the total number of animals using len()\n",
    "#Print the first and last animal using indexing\n",
    "animals = input(\"give name sof your five favourite animals\")\n",
    "animals_list = animals.split()\n",
    "print(animals_list)\n",
    "print(\"Total Animals :\",len(animals_list))\n",
    "print(\"First animal :\",animals_list[0])\n",
    "print(\"Last animal :\",animals_list[-1])"
   ]
  },
  {
   "cell_type": "code",
   "execution_count": 40,
   "id": "606799a5",
   "metadata": {},
   "outputs": [
    {
     "name": "stdout",
     "output_type": "stream",
     "text": [
      "1\n",
      "2\n",
      "3\n",
      "4\n",
      "5\n",
      "6\n",
      "7\n",
      "8\n",
      "9\n",
      "10\n",
      "Even Number:\n",
      "2\n",
      "4\n",
      "6\n",
      "8\n",
      "10\n",
      "12\n",
      "14\n",
      "16\n",
      "18\n",
      "20\n",
      "5\n",
      "10\n",
      "15\n",
      "20\n",
      "25\n",
      "30\n",
      "35\n",
      "40\n",
      "45\n",
      "50\n"
     ]
    }
   ],
   "source": [
    "#Q7. Print Numbers\n",
    "#Use range() and for loop to:\n",
    "#Print numbers from 1 to 10\n",
    "#Print even numbers from 2 to 20\n",
    "#Print multiples of 5 from 5 to 50\n",
    "for num in range(1,11):\n",
    "      print(num)\n",
    "print(\"Even Number:\")\n",
    "for num_even in range(2,21,2):\n",
    "      print(num_even)\n",
    "for num_f in range(5,51,5):\n",
    "      print(num_f)"
   ]
  },
  {
   "cell_type": "code",
   "execution_count": 45,
   "id": "37e3de22",
   "metadata": {},
   "outputs": [
    {
     "name": "stdout",
     "output_type": "stream",
     "text": [
      "1 ** 2 = 1\n",
      "2 ** 2 = 4\n",
      "3 ** 2 = 9\n",
      "4 ** 2 = 16\n",
      "5 ** 2 = 25\n",
      "6 ** 2 = 36\n",
      "7 ** 2 = 49\n",
      "8 ** 2 = 64\n",
      "9 ** 2 = 81\n",
      "10 ** 2 = 100\n"
     ]
    }
   ],
   "source": [
    "#Q8. Squares Table\n",
    "#Use a for loop to print square numbers from 1 to 10:\n",
    "for table in range(1,11):\n",
    "    print(f\"{table} ** 2 = {int(table ** 2)}\")"
   ]
  },
  {
   "cell_type": "code",
   "execution_count": 55,
   "id": "b43aec6c",
   "metadata": {},
   "outputs": [
    {
     "name": "stdout",
     "output_type": "stream",
     "text": [
      "[1, 8, 27, 64, 125]\n"
     ]
    }
   ],
   "source": [
    "# Q9. Make a List of Cubes\n",
    "#Use list comprehension to generate cubes of numbers 1–5.\n",
    "#Print the list.\n",
    "cube_list = [c**3 for c in range(1,6)]\n",
    "print(cube_list)"
   ]
  },
  {
   "cell_type": "code",
   "execution_count": 68,
   "id": "8eacb2aa",
   "metadata": {},
   "outputs": [
    {
     "name": "stdout",
     "output_type": "stream",
     "text": [
      "['ErtugrulGazi', 'Salahudin', 'KrulusOsman', 'FatehSultani', 'Seljuk']\n",
      "['ErtugrulGazi', 'Salahudin', 'KrulusOsman']\n",
      "['FatehSultani', 'Seljuk']\n"
     ]
    }
   ],
   "source": [
    "#Q10. Top 3 Movies\n",
    "#Ask the user to enter 5 movie names using input().\n",
    "#Store them in a list.\n",
    "#Print:\n",
    "#The first 3 movies using slicing\n",
    "#the last 2 movies using slicing\n",
    "movies = input(\"Enter 5 movie names\")\n",
    "movies_list = [movies]\n",
    "movies_list = movies.split()\n",
    "print(movies_list)\n",
    "print(movies_list[0:3])\n",
    "print(movies_list[-2:])"
   ]
  },
  {
   "cell_type": "code",
   "execution_count": 121,
   "id": "46c239b0",
   "metadata": {},
   "outputs": [
    {
     "name": "stdout",
     "output_type": "stream",
     "text": [
      "['Ali', 'Umar', 'Haseeb', 'Ahmed', 'Abdullah']\n",
      "Hello, Ali\n",
      "Hello, Umar\n",
      "Hello, Haseeb\n",
      "Hello, Ahmed\n",
      "Hello, Abdullah\n",
      "Original List of top Students : ['Ali', 'Umar', 'Haseeb']\n",
      "Copied List : ['Ali', 'Umar', 'Haseeb', 'Hashim', 'Usama']\n",
      "Original List Again : ['Ali', 'Umar', 'Haseeb']\n"
     ]
    }
   ],
   "source": [
    "#Q11. Top Students\n",
    "#Ask the user to enter names of 5 students using input() (one by one).\n",
    "#Store the names in a list.\n",
    "#Then:\n",
    "#Print a greeting for each student using a for loop.\n",
    "#Print only the top 3 students using slicing.\n",
    "#Copy the list using [:], then:\n",
    "#Add 2 new names to the copied list using .append()\n",
    "#Print both the original and the new list to show that the original is unchanged.\n",
    "students = []\n",
    "for x in range(5):\n",
    "      names = input(f\"Enter five student names{x}\")\n",
    "      students.append(names)\n",
    "print(students)\n",
    "for greeting in students:\n",
    "    print(f\"Hello, {greeting}\")\n",
    "\n",
    "top_students = students[0:3]\n",
    "print(\"Original List of top Students :\",top_students)\n",
    "new_students = top_students[:]\n",
    "new_students.append(\"Hashim\")\n",
    "new_students.append(\"Usama\")\n",
    "print(\"Copied List :\",new_students)\n",
    "print(\"Original List Again :\",top_students)\n"
   ]
  },
  {
   "cell_type": "code",
   "execution_count": 140,
   "id": "979d9b9e",
   "metadata": {},
   "outputs": [
    {
     "name": "stdout",
     "output_type": "stream",
     "text": [
      "Original List:\n",
      "['Makkah', 'Madina', 'Bait-ul-Maqadas', 'Turkiye', 'Spain']\n",
      "Temporarily sorted List:\n",
      "['Bait-ul-Maqadas', 'Madina', 'Makkah', 'Spain', 'Turkiye']\n",
      "Original List again:\n",
      "['Makkah', 'Madina', 'Bait-ul-Maqadas', 'Turkiye', 'Spain']\n",
      "Reverse true list:\n",
      "['Turkiye', 'Spain', 'Makkah', 'Madina', 'Bait-ul-Maqadas']\n",
      "First flip list:\n",
      "['Bait-ul-Maqadas', 'Madina', 'Makkah', 'Spain', 'Turkiye']\n",
      "Second flip list:\n",
      "['Turkiye', 'Spain', 'Makkah', 'Madina', 'Bait-ul-Maqadas']\n"
     ]
    }
   ],
   "source": [
    "#Q12.  Travel Wishlist\n",
    "#Create a list of 5 places you want to visit.\n",
    "#Print the original list.\n",
    "#Print a temporarily sorted list using sorted().\n",
    "#Sort the list in reverse alphabetical order using .sort(reverse=True).\n",
    "#Use .reverse() twice:\n",
    "#First to flip and print the list\n",
    "#Then to flip it back and print again\n",
    "travel_list = [\"Makkah\",\"Madina\",\"Bait-ul-Maqadas\",\"Turkiye\",\"Spain\",]\n",
    "print(\"Original List:\")\n",
    "print(travel_list)\n",
    "print(\"Temporarily sorted List:\")\n",
    "print(sorted(travel_list))\n",
    "print(\"Original List again:\")\n",
    "print(travel_list)\n",
    "travel_list.sort(reverse=True)\n",
    "print(\"Reverse true list:\")\n",
    "print(travel_list)\n",
    "travel_list.reverse()\n",
    "print(\"First flip list:\")\n",
    "print(travel_list)\n",
    "travel_list.reverse()\n",
    "print(\"Second flip list:\")\n",
    "print(travel_list)\n",
    "\n"
   ]
  },
  {
   "cell_type": "code",
   "execution_count": null,
   "id": "a062a7cf",
   "metadata": {},
   "outputs": [
    {
     "name": "stdout",
     "output_type": "stream",
     "text": [
      "['h', 'a', 's', 'h', 'i', 'm']\n",
      "h\n",
      "a\n",
      "s\n",
      "h\n",
      "i\n",
      "m\n",
      "['h', 'a', 's']\n",
      "['i', 'm']\n",
      "Total characters : 6\n"
     ]
    }
   ],
   "source": [
    "#Mini Challenge: Name Art Generator\n",
    "#Combine your understanding of input, lists, string slicing, for loops, and list length.\n",
    "name = input(\"Enter your name \")\n",
    "name_list = list(name)\n",
    "print(name_list)\n",
    "for line in name_list:\n",
    "     print(line)\n",
    "print(name_list[0:3])\n",
    "print(name_list[-2:])\n",
    "print(\"Total characters :\",len(name_list))"
   ]
  }
 ],
 "metadata": {
  "kernelspec": {
   "display_name": ".venv",
   "language": "python",
   "name": "python3"
  },
  "language_info": {
   "codemirror_mode": {
    "name": "ipython",
    "version": 3
   },
   "file_extension": ".py",
   "mimetype": "text/x-python",
   "name": "python",
   "nbconvert_exporter": "python",
   "pygments_lexer": "ipython3",
   "version": "3.13.3"
  }
 },
 "nbformat": 4,
 "nbformat_minor": 5
}
